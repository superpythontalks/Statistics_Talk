{
 "cells": [
  {
   "cell_type": "markdown",
   "metadata": {
    "collapsed": true
   },
   "source": [
    "Exercise: Theory says that by squaring and adding 4 independent standard Gaussian Distributions, we get a Chi squared distribution of 4 degrees of freedom. Test this. Generate 4 samples of a standard Gaussian distribution of size 500. Take the first outcomes of the four samples, square and add them. Do similarly for all the 500 Samples to get another sample of 500 outcomes. Try to fit this new sample with a Chi squared distribution of 4 degrees of freedom."
   ]
  },
  {
   "cell_type": "code",
   "execution_count": 8,
   "metadata": {},
   "outputs": [
    {
     "data": {
      "text/plain": [
       "(3.781125814634247, 0.05848728863382225, 1.0278477210271939)"
      ]
     },
     "execution_count": 8,
     "metadata": {},
     "output_type": "execute_result"
    }
   ],
   "source": [
    "from scipy import stats\n",
    "import numpy as np\n",
    "\n",
    "samples = stats.norm.rvs(size=(4, 1000))\n",
    "sum_squres = (samples ** 2).sum(axis=0)\n",
    "df_est, loc_est, scale_est = stats.chi2.fit(sum_squres)\n",
    "df_est, loc_est, scale_est"
   ]
  },
  {
   "cell_type": "code",
   "execution_count": 8,
   "metadata": {},
   "outputs": [],
   "source": [
    ""
   ]
  },
  {
   "cell_type": "code",
   "execution_count": null,
   "metadata": {},
   "outputs": [],
   "source": [
    ""
   ]
  }
 ],
 "metadata": {
  "kernelspec": {
   "display_name": "Python 2",
   "language": "python",
   "name": "python2"
  },
  "language_info": {
   "codemirror_mode": {
    "name": "ipython",
    "version": 2.0
   },
   "file_extension": ".py",
   "mimetype": "text/x-python",
   "name": "python",
   "nbconvert_exporter": "python",
   "pygments_lexer": "ipython2",
   "version": "2.7.6"
  }
 },
 "nbformat": 4,
 "nbformat_minor": 0
}