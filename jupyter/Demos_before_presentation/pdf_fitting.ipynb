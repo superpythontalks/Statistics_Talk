{
 "cells": [
  {
   "cell_type": "markdown",
   "metadata": {
    "collapsed": true,
    "deletable": true,
    "editable": true
   },
   "source": [
    "#Demo: Kernal Density Estimation and Distribution Fitting"
   ]
  },
  {
   "cell_type": "code",
   "execution_count": null,
   "metadata": {
    "collapsed": true,
    "deletable": true,
    "editable": true
   },
   "outputs": [],
   "source": [
    "from scipy import stats\n",
    "\n",
    "alpha = 3\n",
    "l = 0.5\n",
    "sample = stats.gamma.rvs(alpha, scale=1/l, size=25)"
   ]
  },
  {
   "cell_type": "code",
   "execution_count": null,
   "metadata": {
    "collapsed": false,
    "deletable": true,
    "editable": true
   },
   "outputs": [],
   "source": [
    "%matplotlib inline\n",
    "from matplotlib import pyplot as plt\n",
    "import numpy as np\n",
    "\n",
    "# Histogram and points\n",
    "hist, bins = np.histogram(sample, bins=10, normed=True)\n",
    "fig, ax = plt.subplots(figsize=(10, 8))\n",
    "ax.bar(bins[:-1], hist, width = 0.5 * (bins[1] - bins[0]),\n",
    "       color='g', label='Histogram')\n",
    "ax.plot(sample, 0.1 * np.random.rand(len(sample)) - 0.1, \n",
    "        'rd')\n",
    "\n",
    "\n",
    "# # Actual PDF\n",
    "# x = np.arange(0, 15, 0.5)\n",
    "# ax.plot(x, stats.gamma.pdf(x, alpha, scale=1/l), 'r',\n",
    "#         label='ground truth')\n",
    "# #\n",
    "# # Kernal Density Estimation\n",
    "# kdist = stats.gaussian_kde(sample)\n",
    "# ax.plot(x, kdist(x), 'b*-', label='KDE')\n",
    "# #\n",
    "# #\n",
    "# # Distribution Fitting\n",
    "# a_est, loc_est, scale_est = stats.gamma.fit(sample)\n",
    "# ax.plot(x, stats.gamma.pdf(x, a_est, loc=loc_est,\n",
    "#                            scale=scale_est), 'm',\n",
    "#         label='Fit, no assumption')\n",
    "# #\n",
    "# a_est, loc_est, scale_est = stats.gamma.fit(sample,\n",
    "#                                             fscale=1/l)\n",
    "# ax.plot(x, stats.gamma.pdf(x, a_est, loc=loc_est,\n",
    "#                            scale=scale_est), 'm',\n",
    "#         label='Fit, fscale=1/l')\n",
    "\n",
    "# axis info\n",
    "ax.legend()\n",
    "ax.set_xlabel('Outcomes')\n",
    "ax.set_ylabel('frequency/distribution')\n",
    "ax.grid(True)"
   ]
  },
  {
   "cell_type": "code",
   "execution_count": null,
   "metadata": {
    "collapsed": true,
    "deletable": true,
    "editable": true
   },
   "outputs": [],
   "source": []
  }
 ],
 "metadata": {
  "kernelspec": {
   "display_name": "Python 2",
   "language": "python",
   "name": "python2"
  },
  "language_info": {
   "codemirror_mode": {
    "name": "ipython",
    "version": 2
   },
   "file_extension": ".py",
   "mimetype": "text/x-python",
   "name": "python",
   "nbconvert_exporter": "python",
   "pygments_lexer": "ipython2",
   "version": "2.7.12"
  }
 },
 "nbformat": 4,
 "nbformat_minor": 0
}
