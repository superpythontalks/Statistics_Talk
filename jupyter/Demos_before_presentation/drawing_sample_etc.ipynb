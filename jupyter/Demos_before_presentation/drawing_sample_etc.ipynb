{
 "cells": [
  {
   "cell_type": "markdown",
   "metadata": {
    "collapsed": true,
    "deletable": true,
    "editable": true
   },
   "source": [
    "# Demo: Drawing samples from a distribution and using other description functions"
   ]
  },
  {
   "cell_type": "code",
   "execution_count": 2,
   "metadata": {
    "collapsed": false,
    "deletable": true,
    "editable": true
   },
   "outputs": [],
   "source": [
    "from scipy import stats\n",
    "import numpy as np"
   ]
  },
  {
   "cell_type": "code",
   "execution_count": 12,
   "metadata": {
    "collapsed": false,
    "deletable": true,
    "editable": true
   },
   "outputs": [],
   "source": [
    "l = 2.0\n",
    "a = 5.0\n",
    "gamma_rv = stats.gamma(a, scale=1/l)"
   ]
  },
  {
   "cell_type": "code",
   "execution_count": 17,
   "metadata": {
    "collapsed": true,
    "deletable": true,
    "editable": true
   },
   "outputs": [
    {
     "data": {
      "text/plain": [
       "(array([ 2.37373375,  4.25824124,  1.00456948,  1.1914439 ,  1.48322083]),\n",
       " array([ 1.27166325,  0.65757583,  6.39410137,  2.00784   ,  3.030782  ]))"
      ]
     },
     "execution_count": 17,
     "metadata": {},
     "output_type": "execute_result"
    }
   ],
   "source": [
    "sample1 = gamma_rv.rvs(size=5)\n",
    "sample2 = gamma_rv.rvs(size=5)\n",
    "\n",
    "sample1, sample2"
   ]
  },
  {
   "cell_type": "code",
   "execution_count": 18,
   "metadata": {
    "collapsed": true,
    "deletable": true,
    "editable": true
   },
   "outputs": [
    {
     "data": {
      "text/plain": [
       "(array([ 1.84251696,  4.77201057,  3.22955927,  0.70860623,  2.77611568]),\n",
       " array([ 1.84251696,  4.77201057,  3.22955927,  0.70860623,  2.77611568]))"
      ]
     },
     "execution_count": 18,
     "metadata": {},
     "output_type": "execute_result"
    }
   ],
   "source": [
    "# set random seed\n",
    "\n",
    "sample1 = gamma_rv.rvs(size=5)\n",
    "\n",
    "sample2 = gamma_rv.rvs(size=5)\n",
    "\n",
    "sample1, sample2"
   ]
  },
  {
   "cell_type": "code",
   "execution_count": 24,
   "metadata": {
    "collapsed": true,
    "deletable": true,
    "editable": true
   },
   "outputs": [
    {
     "name": "stdout",
     "output_type": "stream",
     "text": [
      "Mean=2.5, Median=2.3354544414, Std=1.11803398875, Var=1.25\n",
      "3rd moment=26.25\n",
      "Skewness=0.894427191, Kurtosis=1.2\n"
     ]
    }
   ],
   "source": [
    "mean =\n",
    "median =\n",
    "std =\n",
    "var =\n",
    "moment3 =\n",
    "skewness, kurt =\n",
    "\n",
    "print('Mean={}, Median={}, Std={}, Var={}'.format(mean, median,\n",
    "                                                  std, var))\n",
    "print('3rd moment={}'.format(moment3))\n",
    "print('Skewness={}, Kurtosis={}'.format(skewness, kurt))"
   ]
  },
  {
   "cell_type": "code",
   "execution_count": null,
   "metadata": {
    "collapsed": false,
    "deletable": true,
    "editable": true
   },
   "outputs": [],
   "source": []
  }
 ],
 "metadata": {
  "kernelspec": {
   "display_name": "Python 2",
   "language": "python",
   "name": "python2"
  },
  "language_info": {
   "codemirror_mode": {
    "name": "ipython",
    "version": 2
   },
   "file_extension": ".py",
   "mimetype": "text/x-python",
   "name": "python",
   "nbconvert_exporter": "python",
   "pygments_lexer": "ipython2",
   "version": "2.7.12"
  }
 },
 "nbformat": 4,
 "nbformat_minor": 0
}
