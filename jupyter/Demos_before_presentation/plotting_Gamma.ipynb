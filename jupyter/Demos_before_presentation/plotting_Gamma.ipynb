{
 "cells": [
  {
   "cell_type": "markdown",
   "metadata": {
    "collapsed": true,
    "deletable": true,
    "editable": true
   },
   "source": [
    "# Demo: Plot PDF and CDF functions of a Gamma distribution"
   ]
  },
  {
   "cell_type": "markdown",
   "metadata": {
    "deletable": true,
    "editable": true
   },
   "source": [
    "###Conclusion: \n",
    "Need to specify one shape parameter a($\\alpha$)\n",
    "\n",
    "Need to specify `scale`($1/\\lambda$)\n",
    "\n",
    "Don't need to specify `location`\n",
    " \n"
   ]
  },
  {
   "cell_type": "code",
   "execution_count": null,
   "metadata": {
    "collapsed": false,
    "deletable": true,
    "editable": true
   },
   "outputs": [],
   "source": [
    "%matplotlib inline\n",
    "\n",
    "from scipy import stats\n",
    "import numpy as np\n",
    "from matplotlib import pyplot as plt"
   ]
  },
  {
   "cell_type": "code",
   "execution_count": null,
   "metadata": {
    "collapsed": true,
    "deletable": true,
    "editable": true
   },
   "outputs": [],
   "source": [
    "# Define parameters\n",
    "a = 5.0\n",
    "l = 2.0"
   ]
  },
  {
   "cell_type": "code",
   "execution_count": null,
   "metadata": {
    "collapsed": true,
    "deletable": true,
    "editable": true
   },
   "outputs": [],
   "source": [
    "# Define a range of outcomes\n",
    "x = np.linspace(-8, 8, 100)"
   ]
  },
  {
   "cell_type": "code",
   "execution_count": null,
   "metadata": {
    "code_folding": [],
    "collapsed": false,
    "deletable": true,
    "editable": true
   },
   "outputs": [],
   "source": [
    "# Define pdf and cdf funtions\n",
    "pdf =\n",
    "cdf =\n",
    "\n",
    "# # Using frozen random variable\n",
    "# gamma_frozen =\n",
    "# pdf =\n",
    "# cdf ="
   ]
  },
  {
   "cell_type": "code",
   "execution_count": null,
   "metadata": {
    "collapsed": false,
    "deletable": true,
    "editable": true
   },
   "outputs": [],
   "source": [
    "# Plot pdf_norm and cdf_norm against x\n",
    "fig, axs = plt.subplots(nrows=2, ncols=1, sharex='col')\n",
    "axs[0].plot(x, pdf)\n",
    "axs[0].grid(True)\n",
    "axs[0].set_ylabel('PDF Function')\n",
    "axs[1].plot(x, cdf)\n",
    "axs[1].grid(True)\n",
    "axs[1].set_ylabel('CDF Function')\n",
    "axs[1].set_xlabel('outcome')"
   ]
  }
 ],
 "metadata": {
  "kernelspec": {
   "display_name": "Python 2",
   "language": "python",
   "name": "python2"
  },
  "language_info": {
   "codemirror_mode": {
    "name": "ipython",
    "version": 2
   },
   "file_extension": ".py",
   "mimetype": "text/x-python",
   "name": "python",
   "nbconvert_exporter": "python",
   "pygments_lexer": "ipython2",
   "version": "2.7.12"
  }
 },
 "nbformat": 4,
 "nbformat_minor": 0
}
