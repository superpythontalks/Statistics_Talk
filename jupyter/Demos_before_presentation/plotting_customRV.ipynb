{
 "cells": [
  {
   "cell_type": "markdown",
   "metadata": {
    "collapsed": true,
    "deletable": true,
    "editable": true
   },
   "source": [
    "# Demo: Plotting custom made Exponential distribution"
   ]
  },
  {
   "cell_type": "markdown",
   "metadata": {
    "deletable": true,
    "editable": true
   },
   "source": [
    "For $\\lambda > 0$, $y \\ge 0$\n",
    "$$pdf(y) = \\lambda \\exp{\\left\\{-\\lambda y \\right\\}}$$\n",
    "\n",
    "Parameters: $\\lambda$\n",
    "\n",
    "Setting $\\lambda$ to 1,\n",
    "$$pdf(y) = \\exp^{-y}$$"
   ]
  },
  {
   "cell_type": "code",
   "execution_count": null,
   "metadata": {
    "collapsed": false,
    "deletable": true,
    "editable": true
   },
   "outputs": [],
   "source": [
    "%matplotlib inline\n",
    "\n",
    "from scipy import stats\n",
    "import numpy as np\n",
    "from matplotlib import pyplot as plt\n",
    "from scipy.special import gamma"
   ]
  },
  {
   "cell_type": "code",
   "execution_count": null,
   "metadata": {
    "collapsed": true,
    "deletable": true,
    "editable": true
   },
   "outputs": [],
   "source": [
    "# Define parameters\n",
    "l = 2.0"
   ]
  },
  {
   "cell_type": "code",
   "execution_count": null,
   "metadata": {
    "collapsed": true,
    "deletable": true,
    "editable": true
   },
   "outputs": [],
   "source": [
    "# Define a range of outcomes\n",
    "x = np.linspace(-8, 8, 100)"
   ]
  },
  {
   "cell_type": "code",
   "execution_count": null,
   "metadata": {
    "code_folding": [],
    "collapsed": false,
    "deletable": true,
    "editable": true
   },
   "outputs": [],
   "source": [
    "# Define pdf and cdf funtions\n",
    "\n",
    "class expon_custom(stats.rv_continuous):\n",
    "    def _pdf(self, x):\n",
    "\n",
    "        return \n",
    "\n",
    "\n",
    "expon_custom_frozen = expon_custom() \n",
    "pdf = expon_custom_frozen.pdf(x, scale=1/l)\n",
    "cdf = expon_custom_frozen.cdf(x, scale=1/l)"
   ]
  },
  {
   "cell_type": "code",
   "execution_count": null,
   "metadata": {
    "collapsed": false,
    "deletable": true,
    "editable": true
   },
   "outputs": [],
   "source": [
    "# Plot pdf_norm and cdf_norm against x\n",
    "fig, axs = plt.subplots(nrows=2, ncols=1, sharex='col')\n",
    "axs[0].plot(x, pdf)\n",
    "axs[0].grid(True)\n",
    "axs[0].set_ylabel('PDF Function')\n",
    "axs[1].plot(x, cdf)\n",
    "axs[1].grid(True)\n",
    "axs[1].set_ylabel('CDF Function')\n",
    "axs[1].set_xlabel('outcome')"
   ]
  },
  {
   "cell_type": "code",
   "execution_count": null,
   "metadata": {
    "collapsed": true,
    "deletable": true,
    "editable": true
   },
   "outputs": [],
   "source": []
  }
 ],
 "metadata": {
  "kernelspec": {
   "display_name": "Python 2",
   "language": "python",
   "name": "python2"
  },
  "language_info": {
   "codemirror_mode": {
    "name": "ipython",
    "version": 2
   },
   "file_extension": ".py",
   "mimetype": "text/x-python",
   "name": "python",
   "nbconvert_exporter": "python",
   "pygments_lexer": "ipython2",
   "version": "2.7.12"
  }
 },
 "nbformat": 4,
 "nbformat_minor": 0
}
